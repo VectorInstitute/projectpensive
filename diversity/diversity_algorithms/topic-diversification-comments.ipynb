{
 "cells": [
  {
   "cell_type": "markdown",
   "id": "4c2d98a3",
   "metadata": {},
   "source": [
    "# Improving recommendation lists through topic diversification"
   ]
  },
  {
   "cell_type": "markdown",
   "id": "f7cc6a76",
   "metadata": {},
   "source": [
    "[Source](https://www.researchgate.net/publication/200110416_Improving_recommendation_lists_through_topic_diversification)"
   ]
  },
  {
   "cell_type": "code",
   "execution_count": 1,
   "id": "8ff23b32",
   "metadata": {},
   "outputs": [],
   "source": [
    "import pandas as pd\n",
    "import numpy as np\n",
    "import torch\n",
    "import io\n",
    "import csv\n",
    "from scipy.spatial.distance import pdist\n",
    "from sklearn.metrics.pairwise import cosine_similarity"
   ]
  },
  {
   "cell_type": "code",
   "execution_count": 2,
   "id": "d56c753e",
   "metadata": {},
   "outputs": [],
   "source": [
    "# Sarcasm Dataset\n",
    "df_m = pd.read_csv('../../civility/recommender/train-balanced-sarcasm-processed.csv')"
   ]
  },
  {
   "cell_type": "code",
   "execution_count": 3,
   "id": "4643347f",
   "metadata": {},
   "outputs": [],
   "source": [
    "# Add all comments to a list\n",
    "corpus = df_m['comment'].to_list()"
   ]
  },
  {
   "cell_type": "code",
   "execution_count": 4,
   "id": "2d2167cb",
   "metadata": {},
   "outputs": [
    {
     "name": "stdout",
     "output_type": "stream",
     "text": [
      "Time for computing embeddings:371.1001994609833\n"
     ]
    }
   ],
   "source": [
    "from sentence_transformers import SentenceTransformer, util\n",
    "import torch\n",
    "\n",
    "embedder = SentenceTransformer('paraphrase-MiniLM-L6-v2')\n",
    "\n",
    "# Embed each comment\n",
    "import time\n",
    "start_time = time.time()\n",
    "sarcasm_embeddings = embedder.encode(corpus, convert_to_tensor=True)\n",
    "end_time = time.time()\n",
    "print(\"Time for computing embeddings:\"+ str(end_time-start_time) )"
   ]
  },
  {
   "cell_type": "code",
   "execution_count": 5,
   "id": "c49bee21",
   "metadata": {},
   "outputs": [],
   "source": [
    "# Add vector embeddings as column in df\n",
    "vectors = []\n",
    "for vector in sarcasm_embeddings:\n",
    "    vectors.append(list(vector.cpu().numpy()))\n",
    "    \n",
    "df_m['vector'] = vectors"
   ]
  },
  {
   "cell_type": "markdown",
   "id": "6363ac3a",
   "metadata": {},
   "source": [
    "### Step 1: Generate predictions (at least 5N for a final top-N recommendation list)."
   ]
  },
  {
   "cell_type": "code",
   "execution_count": 6,
   "id": "9af34616",
   "metadata": {},
   "outputs": [],
   "source": [
    "# Define Method for getting top-n similar comments\n",
    "def get_similar_posts(query, n):\n",
    "    \"\"\"\n",
    "    query (string): the text of the post\n",
    "    n (int): number of posts to recommend\n",
    "    \"\"\"\n",
    "    # Find the closest 5 sentences of the corpus for each query sentence based on cosine similarity\n",
    "    top_k = min(n, len(corpus))\n",
    "    query_embedding = embedder.encode(query, convert_to_tensor=True)\n",
    "    similarities = []\n",
    "    pairs = []\n",
    "\n",
    "    # We use cosine-similarity and torch.topk to find the highest 5 scores\n",
    "    cos_scores = util.pytorch_cos_sim(query_embedding, sarcasm_embeddings)[0]\n",
    "    top_results = torch.topk(cos_scores, k=top_k)\n",
    "\n",
    "    print(\"Query:\", query)\n",
    "    print(\"\\nTop {n} most similar sentences in corpus:\".format(n=n))\n",
    "\n",
    "    for score, idx in zip(top_results[0], top_results[1]):\n",
    "#         print(corpus[idx], \"(Score: {:.4f})\".format(score))\n",
    "        pairs.append(tuple((corpus[idx], score)))\n",
    "    \n",
    "    recommend_frame = []\n",
    "    for val in pairs:\n",
    "        recommend_frame.append({'Comment':val[0],'Similarity':val[1].cpu().numpy()})\n",
    "     \n",
    "    df = pd.DataFrame(recommend_frame)\n",
    "    return df"
   ]
  },
  {
   "cell_type": "code",
   "execution_count": 7,
   "id": "69f70f3c",
   "metadata": {},
   "outputs": [
    {
     "name": "stdout",
     "output_type": "stream",
     "text": [
      "Query: Xbox is much better than PS4\n",
      "\n",
      "Top 50 most similar sentences in corpus:\n"
     ]
    },
    {
     "data": {
      "text/html": [
       "<div>\n",
       "<style scoped>\n",
       "    .dataframe tbody tr th:only-of-type {\n",
       "        vertical-align: middle;\n",
       "    }\n",
       "\n",
       "    .dataframe tbody tr th {\n",
       "        vertical-align: top;\n",
       "    }\n",
       "\n",
       "    .dataframe thead th {\n",
       "        text-align: right;\n",
       "    }\n",
       "</style>\n",
       "<table border=\"1\" class=\"dataframe\">\n",
       "  <thead>\n",
       "    <tr style=\"text-align: right;\">\n",
       "      <th></th>\n",
       "      <th>Comment</th>\n",
       "      <th>Similarity</th>\n",
       "      <th>label</th>\n",
       "      <th>author</th>\n",
       "      <th>subreddit</th>\n",
       "      <th>score</th>\n",
       "      <th>ups</th>\n",
       "      <th>downs</th>\n",
       "      <th>date</th>\n",
       "      <th>created_utc</th>\n",
       "      <th>parent_comment</th>\n",
       "      <th>vector</th>\n",
       "    </tr>\n",
       "  </thead>\n",
       "  <tbody>\n",
       "    <tr>\n",
       "      <th>0</th>\n",
       "      <td>No, because the xbox one is soooo much better ...</td>\n",
       "      <td>0.9228309</td>\n",
       "      <td>1</td>\n",
       "      <td>awesome7332</td>\n",
       "      <td>gaming</td>\n",
       "      <td>1</td>\n",
       "      <td>1</td>\n",
       "      <td>0</td>\n",
       "      <td>2015-06</td>\n",
       "      <td>2015-06-08 03:38:26</td>\n",
       "      <td>How about we stop arguing about the platforms.</td>\n",
       "      <td>[0.30111814, -0.6113374, 0.116583675, -0.63111...</td>\n",
       "    </tr>\n",
       "    <tr>\n",
       "      <th>1</th>\n",
       "      <td>but xbox has the highest quality pixels, so it...</td>\n",
       "      <td>0.88953227</td>\n",
       "      <td>1</td>\n",
       "      <td>its_high_knut</td>\n",
       "      <td>pcmasterrace</td>\n",
       "      <td>2</td>\n",
       "      <td>2</td>\n",
       "      <td>0</td>\n",
       "      <td>2016-08</td>\n",
       "      <td>2016-08-09 20:20:45</td>\n",
       "      <td>They look even better if you play them on your...</td>\n",
       "      <td>[0.41256794, -0.464011, -0.2718223, -0.6063775...</td>\n",
       "    </tr>\n",
       "    <tr>\n",
       "      <th>2</th>\n",
       "      <td>Xbox or PS4</td>\n",
       "      <td>0.8632204</td>\n",
       "      <td>0</td>\n",
       "      <td>DogblockBernie</td>\n",
       "      <td>Rainbow6</td>\n",
       "      <td>1</td>\n",
       "      <td>1</td>\n",
       "      <td>0</td>\n",
       "      <td>2016-09</td>\n",
       "      <td>2016-09-19 01:26:24</td>\n",
       "      <td>Same here!</td>\n",
       "      <td>[0.51289624, -0.74949, 0.08234843, -0.94248724...</td>\n",
       "    </tr>\n",
       "    <tr>\n",
       "      <th>3</th>\n",
       "      <td>Ayy, better than Xbox 7 and PS5</td>\n",
       "      <td>0.8621861</td>\n",
       "      <td>1</td>\n",
       "      <td>DarkShadow1253</td>\n",
       "      <td>pcmasterrace</td>\n",
       "      <td>1</td>\n",
       "      <td>1</td>\n",
       "      <td>0</td>\n",
       "      <td>2015-06</td>\n",
       "      <td>2015-06-15 17:59:29</td>\n",
       "      <td>To make you happy with your specs: YOUR SPECS ...</td>\n",
       "      <td>[0.083633505, -0.6993774, -0.01547823, -0.6487...</td>\n",
       "    </tr>\n",
       "    <tr>\n",
       "      <th>4</th>\n",
       "      <td>Ps4 or Xbox</td>\n",
       "      <td>0.8430183</td>\n",
       "      <td>1</td>\n",
       "      <td>Karma_y0</td>\n",
       "      <td>AskReddit</td>\n",
       "      <td>1</td>\n",
       "      <td>1</td>\n",
       "      <td>0</td>\n",
       "      <td>2016-05</td>\n",
       "      <td>2016-05-21 21:37:44</td>\n",
       "      <td>If you could ask anyone on the internet someth...</td>\n",
       "      <td>[0.48774123, -0.7246228, 0.0145492, -0.9653652...</td>\n",
       "    </tr>\n",
       "  </tbody>\n",
       "</table>\n",
       "</div>"
      ],
      "text/plain": [
       "                                             Comment  Similarity  label  \\\n",
       "0  No, because the xbox one is soooo much better ...   0.9228309      1   \n",
       "1  but xbox has the highest quality pixels, so it...  0.88953227      1   \n",
       "2                                        Xbox or PS4   0.8632204      0   \n",
       "3                    Ayy, better than Xbox 7 and PS5   0.8621861      1   \n",
       "4                                        Ps4 or Xbox   0.8430183      1   \n",
       "\n",
       "           author     subreddit  score  ups  downs     date  \\\n",
       "0     awesome7332        gaming      1    1      0  2015-06   \n",
       "1   its_high_knut  pcmasterrace      2    2      0  2016-08   \n",
       "2  DogblockBernie      Rainbow6      1    1      0  2016-09   \n",
       "3  DarkShadow1253  pcmasterrace      1    1      0  2015-06   \n",
       "4        Karma_y0     AskReddit      1    1      0  2016-05   \n",
       "\n",
       "           created_utc                                     parent_comment  \\\n",
       "0  2015-06-08 03:38:26     How about we stop arguing about the platforms.   \n",
       "1  2016-08-09 20:20:45  They look even better if you play them on your...   \n",
       "2  2016-09-19 01:26:24                                         Same here!   \n",
       "3  2015-06-15 17:59:29  To make you happy with your specs: YOUR SPECS ...   \n",
       "4  2016-05-21 21:37:44  If you could ask anyone on the internet someth...   \n",
       "\n",
       "                                              vector  \n",
       "0  [0.30111814, -0.6113374, 0.116583675, -0.63111...  \n",
       "1  [0.41256794, -0.464011, -0.2718223, -0.6063775...  \n",
       "2  [0.51289624, -0.74949, 0.08234843, -0.94248724...  \n",
       "3  [0.083633505, -0.6993774, -0.01547823, -0.6487...  \n",
       "4  [0.48774123, -0.7246228, 0.0145492, -0.9653652...  "
      ]
     },
     "execution_count": 7,
     "metadata": {},
     "output_type": "execute_result"
    }
   ],
   "source": [
    "n = 10 # Select how many recommendations you want\n",
    "N = 5 * n\n",
    "C_prime = get_similar_posts('Xbox is much better than PS4', N)\n",
    "C_prime = C_prime.join(df_m.set_index('comment'), on='Comment')\n",
    "C_prime.head()"
   ]
  },
  {
   "cell_type": "markdown",
   "id": "76744bc5",
   "metadata": {},
   "source": [
    "### Step 2: For each N+1 position item calculate the ILS (diversity) if this item was part of the top-N list.\n",
    "\n",
    "For every list entry z ∈ [2, N], we collect the items from candidate set Bi that do not occur in positions o < z in Pwi∗ and compute their similarity with set {Pwi∗(k) | k ∈ 1, z }, which contains all new recommendations preceding rank z"
   ]
  },
  {
   "cell_type": "code",
   "execution_count": 87,
   "id": "e7ee65da",
   "metadata": {},
   "outputs": [],
   "source": [
    "# Prepare df for pariwise distance\n",
    "df_ils = C_prime.copy()\n",
    "df_ils = df_ils.set_index(['Comment'])"
   ]
  },
  {
   "cell_type": "code",
   "execution_count": 88,
   "id": "023926ec",
   "metadata": {},
   "outputs": [],
   "source": [
    "ils = {}\n",
    "# set ILS for first item\n",
    "ils[df_ils.head(1)['Similarity'].index.values.item(0)] = df_ils.head(1)['Similarity'].values[0].item(0)\n",
    "for i in range(2, 51):\n",
    "    top_n = df_ils.head(i - 1)\n",
    "    top_n = top_n[['Similarity']]\n",
    "    bottom = df_ils.tail(len(df_ils) - i + 1)\n",
    "    bottom = bottom[['Similarity']]\n",
    "    for item in bottom.index:\n",
    "        rowData = bottom.loc[[item] , :]\n",
    "        top_n = top_n.append(rowData)\n",
    "        ils[item] = sum( [x for x in pdist(top_n)] ) / len(top_n) # ILS Calculation\n",
    "        top_n= top_n.drop(index=item)"
   ]
  },
  {
   "cell_type": "code",
   "execution_count": 89,
   "id": "c0646c2a",
   "metadata": {},
   "outputs": [
    {
     "data": {
      "text/plain": [
       "50"
      ]
     },
     "execution_count": 89,
     "metadata": {},
     "output_type": "execute_result"
    }
   ],
   "source": [
    "len(ils)"
   ]
  },
  {
   "cell_type": "markdown",
   "id": "a54035da",
   "metadata": {},
   "source": [
    "### Step 3: Sort the remaining items in reverse (according to ILS rank) to get their dissimilarity rank."
   ]
  },
  {
   "cell_type": "code",
   "execution_count": 90,
   "id": "9e8b4389",
   "metadata": {},
   "outputs": [],
   "source": [
    "dissimilarity_rank = {k: v for k, v in sorted(ils.items(), key=lambda item: item[1], reverse=True)}"
   ]
  },
  {
   "cell_type": "code",
   "execution_count": 91,
   "id": "a9af8911",
   "metadata": {},
   "outputs": [
    {
     "data": {
      "text/plain": [
       "{'Is it xbox, console, or all?': 1.4611378622055053,\n",
       " '\"xbox and ps4 only\"': 1.4317524043881162,\n",
       " 'Still, more exclusives than PS4!': 1.4013376869261265,\n",
       " \"I'll help, are you on PC, PS4 or Xbox One?\": 1.3705945344681436,\n",
       " 'But everyone knows the PS4 is more powerful!': 1.3387863998827727,\n",
       " \"Well, the ps4 isn't as broken as the Xbox one so it DOESNT need updating.\": 1.305928683280945,\n",
       " 'out of curiosity is there anything you prefer about the PS4 compared to the PC?': 1.2726867713711478,\n",
       " 'What about an xBox?': 1.2402155205260876,\n",
       " 'It\\'s just good that xbox owners have a thought of \"I wish i had a PS3 right now\" just before the next generation begins.': 1.2064498648757027,\n",
       " 'The reason its much more expensive is cuz the ps3 is clearly the better platform': 1.171227728448263,\n",
       " 'Switch from ps3 to xbox360': 1.1376433089375495,\n",
       " 'This would be so much better sitting with an Xbox controller!': 1.1033319173715053,\n",
       " \"But do you really think that PC is better than PS4, these people really seem to know what they're talking about.\": 1.069251669080634,\n",
       " 'Just to clear things up, are the games for PS3 or PS4?': 1.0341232725091882,\n",
       " 'It depends on the game, some work better on Xbox One than the on the Xbox 360, and some work worse.': 0.9982710778713226,\n",
       " \"The xbox is only something like 25% slower than the ps4, it's probably better that ubisoft locked both to 30 because it matches refresh rate somewhat, and the ps4 would only get to 40, causing skips and screen tearing.\": 0.9620666299547468,\n",
       " 'Should be just a little bit better than my PS4 ;)': 0.9275931365349713,\n",
       " 'No, because the xbox one is soooo much better than the ps4': 0.9228308796882629,\n",
       " \"If Xbox was outselling PS4 2:1 he'd still partner with Sony over Microsoft.\": 0.8944118059042728,\n",
       " \"Well all I can say is that I used to be xbox first, and then I'd pick up the playstation to play a few games like MGS... Looks like I'm just going to have a PS4 now.\": 0.8603924419730902,\n",
       " \"Omg no, I'm an investor and I'm sooooo disappointed in Xbox One not outselling PS4!\": 0.8286384613283219,\n",
       " 'Maybe not Sony or Nintendo consoles, since the exclusives are pretty banging, but an Xbox is pretty much an underpowered and overpriced PC at this point': 0.7949566344420115,\n",
       " 'I though the Xbox players would be better since they have so much experience with my mom.': 0.7599767734264505,\n",
       " 'Still looks better than the xbox one version': 0.731709897518158,\n",
       " 'I like how the Xbox 360 are worth more than the Xbox One games...': 0.7016549640231662,\n",
       " 'Unless they prefer to still call Xbox One/PS4 next-gen and it will be 360/PS3 only.': 0.6705895616458013,\n",
       " '8 Xbox One Support would be better': 0.6374567937850952,\n",
       " \"No you are confused with the PS4.. Xbox plays used games, it's the PS4 that doesn't.\": 0.6039013887445132,\n",
       " 'Xbox and PS3 sure are giving us lots of reason to choose them over PC.': 0.5697731660759967,\n",
       " 'We sure did get shafted because while xbox one owners have more than likely burned out on the current content, PS4 have almost an extra games worth.': 0.5405054146593268,\n",
       " 'Is that on the Xbox One or the PS4?': 0.5138557581674486,\n",
       " 'PS4 owners are stupid and ruin the gaming community, they just know Xbox is 10 times better.': 0.4876961648464203,\n",
       " 'Will this make my Xbox run better?': 0.460056838236357,\n",
       " 'Xbox has 100% uptime and I demand the same from ps4!': 0.4342549310790168,\n",
       " \"Eh, PS4 and Xbox One don't as of now.\": 0.41598566139445586,\n",
       " 'Is that because the PS4 is better than your PC?': 0.3956144265830517,\n",
       " 'Anyone on Xbox One having these issues or is it mainly PS4?': 0.3726395606994629,\n",
       " \"IT'S BETTER ON PS4\": 0.3469321685177939,\n",
       " 'Better than a ps4 anyway.': 0.3229479422936073,\n",
       " \"Oh know didn't you know the PS4's 1080p is better than the Xbox One's 1080p?\": 0.29589888950188953,\n",
       " 'As others have noted, it was more powerful than the PS2, but not more powerful than the Xbox.': 0.26846615834669635,\n",
       " 'still runs better than an xbox': 0.2367587208747864,\n",
       " 'I bet Xbox will do something better than PS+ for the nextbox, just make sense.': 0.2005715635087755,\n",
       " 'Sorry yes, the white Xbox One looks waaaay better then the black PS4.': 0.16846173256635666,\n",
       " 'Because I like my Xbox for other games like Forza and Halo, I personally prefer it to a PS4 because of multiple reasons anyway, and its a waste to change console as a bottom-level AM just for one damn game.': 0.12954781736646379,\n",
       " 'PS4 or Xbox?': 0.0972829560438792,\n",
       " 'Ps4 or Xbox': 0.07478854656219483,\n",
       " 'Ayy, better than Xbox 7 and PS5': 0.052061572670936584,\n",
       " 'Xbox or PS4': 0.03974032402038574,\n",
       " 'but xbox has the highest quality pixels, so it should be better than ps4, right?': 0.016649305820465088}"
      ]
     },
     "execution_count": 91,
     "metadata": {},
     "output_type": "execute_result"
    }
   ],
   "source": [
    "dissimilarity_rank"
   ]
  },
  {
   "cell_type": "markdown",
   "id": "4d9f6b1b",
   "metadata": {},
   "source": [
    "### Step 4: Calculate new rank for each item as r = a ∗ P + b ∗ Pd, with P being the original rank, Pd being the dissimilarity rank and a, b being constants in range [0, 1]"
   ]
  },
  {
   "cell_type": "code",
   "execution_count": 92,
   "id": "18f0ab42",
   "metadata": {},
   "outputs": [],
   "source": [
    "from collections import OrderedDict\n",
    "# a,b ∈ [0,1]\n",
    "a = 0.5\n",
    "b = 0.5\n",
    "new_rank = {}\n",
    "ordered_dissimilarity_rank = OrderedDict(dissimilarity_rank)\n",
    "for item in df_ils.index:\n",
    "    P = C_prime['Similarity'][C_prime['Comment'] == item].values[0]\n",
    "    Pd = ordered_dissimilarity_rank[item]\n",
    "#     P = C_prime.index[C_prime['Comment'] == item]\n",
    "#     Pd = list(ordered_dissimilarity_rank.keys()).index(item)\n",
    "    new_rank[item] = (a * P) + (b * Pd)"
   ]
  },
  {
   "cell_type": "markdown",
   "id": "ea2c54d6",
   "metadata": {},
   "source": [
    "### Step 5: Select the top-N items according to the newly calculated rank"
   ]
  },
  {
   "cell_type": "code",
   "execution_count": 94,
   "id": "c1643987",
   "metadata": {},
   "outputs": [],
   "source": [
    "final_ranks = {k: v for k, v in sorted(new_rank.items(), key=lambda item: item[1], reverse=True)}"
   ]
  },
  {
   "cell_type": "code",
   "execution_count": 96,
   "id": "6055af28",
   "metadata": {},
   "outputs": [
    {
     "data": {
      "text/html": [
       "<div>\n",
       "<style scoped>\n",
       "    .dataframe tbody tr th:only-of-type {\n",
       "        vertical-align: middle;\n",
       "    }\n",
       "\n",
       "    .dataframe tbody tr th {\n",
       "        vertical-align: top;\n",
       "    }\n",
       "\n",
       "    .dataframe thead th {\n",
       "        text-align: right;\n",
       "    }\n",
       "</style>\n",
       "<table border=\"1\" class=\"dataframe\">\n",
       "  <thead>\n",
       "    <tr style=\"text-align: right;\">\n",
       "      <th></th>\n",
       "      <th>Rank</th>\n",
       "      <th>Similarity</th>\n",
       "    </tr>\n",
       "    <tr>\n",
       "      <th>Comment</th>\n",
       "      <th></th>\n",
       "      <th></th>\n",
       "    </tr>\n",
       "  </thead>\n",
       "  <tbody>\n",
       "    <tr>\n",
       "      <th>Is it xbox, console, or all?</th>\n",
       "      <td>1.077644</td>\n",
       "      <td>1.461138</td>\n",
       "    </tr>\n",
       "    <tr>\n",
       "      <th>\"xbox and ps4 only\"</th>\n",
       "      <td>1.063047</td>\n",
       "      <td>1.431752</td>\n",
       "    </tr>\n",
       "    <tr>\n",
       "      <th>Still, more exclusives than PS4!</th>\n",
       "      <td>1.048312</td>\n",
       "      <td>1.401338</td>\n",
       "    </tr>\n",
       "    <tr>\n",
       "      <th>I'll help, are you on PC, PS4 or Xbox One?</th>\n",
       "      <td>1.033073</td>\n",
       "      <td>1.370595</td>\n",
       "    </tr>\n",
       "    <tr>\n",
       "      <th>But everyone knows the PS4 is more powerful!</th>\n",
       "      <td>1.017348</td>\n",
       "      <td>1.338786</td>\n",
       "    </tr>\n",
       "    <tr>\n",
       "      <th>Well, the ps4 isn't as broken as the Xbox one so it DOESNT need updating.</th>\n",
       "      <td>1.001461</td>\n",
       "      <td>1.305929</td>\n",
       "    </tr>\n",
       "    <tr>\n",
       "      <th>out of curiosity is there anything you prefer about the PS4 compared to the PC?</th>\n",
       "      <td>0.985972</td>\n",
       "      <td>1.272687</td>\n",
       "    </tr>\n",
       "    <tr>\n",
       "      <th>What about an xBox?</th>\n",
       "      <td>0.969859</td>\n",
       "      <td>1.240216</td>\n",
       "    </tr>\n",
       "    <tr>\n",
       "      <th>It's just good that xbox owners have a thought of \"I wish i had a PS3 right now\" just before the next generation begins.</th>\n",
       "      <td>0.953070</td>\n",
       "      <td>1.206450</td>\n",
       "    </tr>\n",
       "    <tr>\n",
       "      <th>The reason its much more expensive is cuz the ps3 is clearly the better platform</th>\n",
       "      <td>0.937117</td>\n",
       "      <td>1.171228</td>\n",
       "    </tr>\n",
       "  </tbody>\n",
       "</table>\n",
       "</div>"
      ],
      "text/plain": [
       "                                                        Rank  Similarity\n",
       "Comment                                                                 \n",
       "Is it xbox, console, or all?                        1.077644    1.461138\n",
       "\"xbox and ps4 only\"                                 1.063047    1.431752\n",
       "Still, more exclusives than PS4!                    1.048312    1.401338\n",
       "I'll help, are you on PC, PS4 or Xbox One?          1.033073    1.370595\n",
       "But everyone knows the PS4 is more powerful!        1.017348    1.338786\n",
       "Well, the ps4 isn't as broken as the Xbox one s...  1.001461    1.305929\n",
       "out of curiosity is there anything you prefer a...  0.985972    1.272687\n",
       "What about an xBox?                                 0.969859    1.240216\n",
       "It's just good that xbox owners have a thought ...  0.953070    1.206450\n",
       "The reason its much more expensive is cuz the p...  0.937117    1.171228"
      ]
     },
     "execution_count": 96,
     "metadata": {},
     "output_type": "execute_result"
    }
   ],
   "source": [
    "data = []\n",
    "for comment, score in final_ranks.items():\n",
    "    data.append({'Comment': comment,'Rank': score})\n",
    "\n",
    "df_sim = pd.DataFrame(data)\n",
    "df_sim = df_sim.set_index(['Comment'])\n",
    "similarities = []\n",
    "for item in df_sim.index:\n",
    "    similarities.append(ordered_dissimilarity_rank[item])\n",
    "\n",
    "df_sim['Similarity'] = similarities\n",
    "df_sim = df_sim.head(10)\n",
    "df_sim.sort_values(by=['Rank'], ascending=False)"
   ]
  },
  {
   "cell_type": "code",
   "execution_count": 97,
   "id": "f5af028d",
   "metadata": {},
   "outputs": [
    {
     "data": {
      "text/plain": [
       "0.11818890707322412"
      ]
     },
     "execution_count": 97,
     "metadata": {},
     "output_type": "execute_result"
    }
   ],
   "source": [
    "# Find the Diversity\n",
    "n = 10\n",
    "df_copy = df_sim.copy()\n",
    "df_copy = df_copy.drop(columns=['Rank'])\n",
    "dis_similarity = [x for x in pdist(df_copy)]\n",
    "avg_dissim_greedy = (sum(dis_similarity))/((n/2)*(n-1))\n",
    "avg_dissim_greedy"
   ]
  },
  {
   "cell_type": "code",
   "execution_count": 98,
   "id": "54275625",
   "metadata": {},
   "outputs": [],
   "source": [
    "# Define Method for getting top-n similar comments/titles\n",
    "def get_similar_posts(query, n):\n",
    "    \"\"\"\n",
    "    query (string): the text of the post\n",
    "    n (int): number of posts to recommend\n",
    "    \"\"\"\n",
    "    # Find the closest 5 sentences of the corpus for each query sentence based on cosine similarity\n",
    "    top_k = min(n, len(corpus))\n",
    "    query_embedding = embedder.encode(query, convert_to_tensor=True)\n",
    "    similarities = []\n",
    "    pairs = []\n",
    "\n",
    "    # We use cosine-similarity and torch.topk to find the highest 5 scores\n",
    "    cos_scores = util.pytorch_cos_sim(query_embedding, sarcasm_embeddings)[0]\n",
    "    top_results = torch.topk(cos_scores, k=top_k)\n",
    "\n",
    "    print(\"Query:\", query)\n",
    "    print(\"\\nTop {n} most similar sentences in corpus:\".format(n=n))\n",
    "\n",
    "    for score, idx in zip(top_results[0], top_results[1]):\n",
    "#         print(corpus[idx], \"(Score: {:.4f})\".format(score))\n",
    "        pairs.append(tuple((corpus[idx], score)))\n",
    "    \n",
    "    recommend_frame = []\n",
    "    for val in pairs:\n",
    "        recommend_frame.append({'Comment':val[0],'Similarity':val[1].cpu().numpy()})\n",
    "     \n",
    "    df = pd.DataFrame(recommend_frame)\n",
    "    df = df.set_index(['Comment'])\n",
    "    return df"
   ]
  },
  {
   "cell_type": "code",
   "execution_count": 99,
   "id": "62d409f8",
   "metadata": {},
   "outputs": [
    {
     "name": "stdout",
     "output_type": "stream",
     "text": [
      "Query: Xbox is much better than PS4\n",
      "\n",
      "Top 10 most similar sentences in corpus:\n"
     ]
    },
    {
     "data": {
      "text/html": [
       "<div>\n",
       "<style scoped>\n",
       "    .dataframe tbody tr th:only-of-type {\n",
       "        vertical-align: middle;\n",
       "    }\n",
       "\n",
       "    .dataframe tbody tr th {\n",
       "        vertical-align: top;\n",
       "    }\n",
       "\n",
       "    .dataframe thead th {\n",
       "        text-align: right;\n",
       "    }\n",
       "</style>\n",
       "<table border=\"1\" class=\"dataframe\">\n",
       "  <thead>\n",
       "    <tr style=\"text-align: right;\">\n",
       "      <th></th>\n",
       "      <th>Similarity</th>\n",
       "    </tr>\n",
       "    <tr>\n",
       "      <th>Comment</th>\n",
       "      <th></th>\n",
       "    </tr>\n",
       "  </thead>\n",
       "  <tbody>\n",
       "    <tr>\n",
       "      <th>No, because the xbox one is soooo much better than the ps4</th>\n",
       "      <td>0.9228309</td>\n",
       "    </tr>\n",
       "    <tr>\n",
       "      <th>but xbox has the highest quality pixels, so it should be better than ps4, right?</th>\n",
       "      <td>0.88953227</td>\n",
       "    </tr>\n",
       "    <tr>\n",
       "      <th>Xbox or PS4</th>\n",
       "      <td>0.8632204</td>\n",
       "    </tr>\n",
       "    <tr>\n",
       "      <th>Ayy, better than Xbox 7 and PS5</th>\n",
       "      <td>0.8621861</td>\n",
       "    </tr>\n",
       "    <tr>\n",
       "      <th>Ps4 or Xbox</th>\n",
       "      <td>0.8430183</td>\n",
       "    </tr>\n",
       "  </tbody>\n",
       "</table>\n",
       "</div>"
      ],
      "text/plain": [
       "                                                    Similarity\n",
       "Comment                                                       \n",
       "No, because the xbox one is soooo much better t...   0.9228309\n",
       "but xbox has the highest quality pixels, so it ...  0.88953227\n",
       "Xbox or PS4                                          0.8632204\n",
       "Ayy, better than Xbox 7 and PS5                      0.8621861\n",
       "Ps4 or Xbox                                          0.8430183"
      ]
     },
     "execution_count": 99,
     "metadata": {},
     "output_type": "execute_result"
    }
   ],
   "source": [
    "df_control = get_similar_posts('Xbox is much better than PS4', 10)\n",
    "df_control.head()"
   ]
  },
  {
   "cell_type": "code",
   "execution_count": 100,
   "id": "293f16ee",
   "metadata": {},
   "outputs": [
    {
     "data": {
      "text/plain": [
       "0.05261304908328586"
      ]
     },
     "execution_count": 100,
     "metadata": {},
     "output_type": "execute_result"
    }
   ],
   "source": [
    "n = 10\n",
    "dis_similarity = [x for x in pdist(df_control)]\n",
    "\n",
    "avg_dissim_control = (sum(dis_similarity))/((n/2)*(n-1))\n",
    "avg_dissim_control"
   ]
  },
  {
   "cell_type": "code",
   "execution_count": 101,
   "id": "63350b84",
   "metadata": {},
   "outputs": [
    {
     "data": {
      "text/plain": [
       "124.64"
      ]
     },
     "execution_count": 101,
     "metadata": {},
     "output_type": "execute_result"
    }
   ],
   "source": [
    "percent_change = ((avg_dissim_greedy - avg_dissim_control)/avg_dissim_control)*100\n",
    "round(percent_change, 2)"
   ]
  },
  {
   "cell_type": "code",
   "execution_count": null,
   "id": "731b7771",
   "metadata": {},
   "outputs": [],
   "source": [
    "### END OF NOTEBOOK ###"
   ]
  }
 ],
 "metadata": {
  "kernelspec": {
   "display_name": "Python 3",
   "language": "python",
   "name": "python3"
  },
  "language_info": {
   "codemirror_mode": {
    "name": "ipython",
    "version": 3
   },
   "file_extension": ".py",
   "mimetype": "text/x-python",
   "name": "python",
   "nbconvert_exporter": "python",
   "pygments_lexer": "ipython3",
   "version": "3.6.9"
  }
 },
 "nbformat": 4,
 "nbformat_minor": 5
}
