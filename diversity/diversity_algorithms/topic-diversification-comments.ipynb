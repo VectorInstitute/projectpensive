{
 "cells": [
  {
   "cell_type": "markdown",
   "id": "4c2d98a3",
   "metadata": {},
   "source": [
    "# Improving recommendation lists through topic diversification\n",
    "\n",
    "This notebook implements the Topic Diversification Algorithm that was defined in the [Improving Reccomendation Lists through Topic Diversification](https://www.researchgate.net/publication/200110416_Improving_recommendation_lists_through_topic_diversification) research paper. The dataset can be found [here](https://www.kaggle.com/timschaum/subreddit-recommender)."
   ]
  },
  {
   "cell_type": "code",
   "execution_count": 1,
   "id": "8ff23b32",
   "metadata": {},
   "outputs": [],
   "source": [
    "import pandas as pd\n",
    "import numpy as np\n",
    "import torch\n",
    "import io\n",
    "import csv\n",
    "from scipy.spatial.distance import pdist\n",
    "from sklearn.metrics.pairwise import cosine_similarity"
   ]
  },
  {
   "cell_type": "code",
   "execution_count": 2,
   "id": "d56c753e",
   "metadata": {},
   "outputs": [],
   "source": [
    "# Sarcasm Dataset\n",
    "df_m = pd.read_csv('../../civility/recommender/train-balanced-sarcasm-processed.csv')"
   ]
  },
  {
   "cell_type": "code",
   "execution_count": 3,
   "id": "4643347f",
   "metadata": {},
   "outputs": [],
   "source": [
    "# Add all comments to a list\n",
    "corpus = df_m['comment'].to_list()"
   ]
  },
  {
   "cell_type": "code",
   "execution_count": 4,
   "id": "2d2167cb",
   "metadata": {},
   "outputs": [
    {
     "name": "stdout",
     "output_type": "stream",
     "text": [
      "Time for computing embeddings:37.183178424835205\n"
     ]
    }
   ],
   "source": [
    "from sentence_transformers import SentenceTransformer, util\n",
    "import torch\n",
    "\n",
    "embedder = SentenceTransformer('paraphrase-MiniLM-L6-v2')\n",
    "\n",
    "# Embed each comment\n",
    "import time\n",
    "start_time = time.time()\n",
    "sarcasm_embeddings = embedder.encode(corpus, convert_to_tensor=True)\n",
    "end_time = time.time()\n",
    "print(\"Time for computing embeddings:\"+ str(end_time-start_time) )"
   ]
  },
  {
   "cell_type": "code",
   "execution_count": 5,
   "id": "c49bee21",
   "metadata": {},
   "outputs": [],
   "source": [
    "# Add vector embeddings as column in df\n",
    "vectors = []\n",
    "for vector in sarcasm_embeddings:\n",
    "    vectors.append(list(vector.cpu().numpy()))\n",
    "    \n",
    "df_m['vector'] = vectors"
   ]
  },
  {
   "cell_type": "markdown",
   "id": "6363ac3a",
   "metadata": {},
   "source": [
    "### Step 1: Generate predictions (at least 5N for a final top-N recommendation list)."
   ]
  },
  {
   "cell_type": "code",
   "execution_count": 6,
   "id": "9af34616",
   "metadata": {},
   "outputs": [],
   "source": [
    "# Define Method for getting top-n similar comments\n",
    "def get_similar_posts(query, n):\n",
    "    \"\"\"\n",
    "    query (string): the text of the post\n",
    "    n (int): number of posts to recommend\n",
    "    \"\"\"\n",
    "    # Find the closest 5 sentences of the corpus for each query sentence based on cosine similarity\n",
    "    top_k = min(n, len(corpus))\n",
    "    query_embedding = embedder.encode(query, convert_to_tensor=True)\n",
    "    similarities = []\n",
    "    pairs = []\n",
    "\n",
    "    # We use cosine-similarity and torch.topk to find the highest 5 scores\n",
    "    cos_scores = util.pytorch_cos_sim(query_embedding, sarcasm_embeddings)[0]\n",
    "    top_results = torch.topk(cos_scores, k=top_k)\n",
    "\n",
    "    print(\"Query:\", query)\n",
    "    print(\"\\nTop {n} most similar sentences in corpus:\".format(n=n))\n",
    "\n",
    "    for score, idx in zip(top_results[0], top_results[1]):\n",
    "#         print(corpus[idx], \"(Score: {:.4f})\".format(score))\n",
    "        pairs.append(tuple((corpus[idx], score)))\n",
    "    \n",
    "    recommend_frame = []\n",
    "    for val in pairs:\n",
    "        recommend_frame.append({'Comment':val[0],'Similarity':val[1].cpu().numpy()})\n",
    "     \n",
    "    df = pd.DataFrame(recommend_frame)\n",
    "    return df"
   ]
  },
  {
   "cell_type": "code",
   "execution_count": 7,
   "id": "69f70f3c",
   "metadata": {},
   "outputs": [
    {
     "name": "stdout",
     "output_type": "stream",
     "text": [
      "Query: Xbox is much better than PS4\n",
      "\n",
      "Top 50 most similar sentences in corpus:\n"
     ]
    },
    {
     "data": {
      "text/html": [
       "<div>\n",
       "<style scoped>\n",
       "    .dataframe tbody tr th:only-of-type {\n",
       "        vertical-align: middle;\n",
       "    }\n",
       "\n",
       "    .dataframe tbody tr th {\n",
       "        vertical-align: top;\n",
       "    }\n",
       "\n",
       "    .dataframe thead th {\n",
       "        text-align: right;\n",
       "    }\n",
       "</style>\n",
       "<table border=\"1\" class=\"dataframe\">\n",
       "  <thead>\n",
       "    <tr style=\"text-align: right;\">\n",
       "      <th></th>\n",
       "      <th>Comment</th>\n",
       "      <th>Similarity</th>\n",
       "      <th>Unnamed: 0</th>\n",
       "      <th>parent_comment</th>\n",
       "      <th>author</th>\n",
       "      <th>subreddit</th>\n",
       "      <th>vector</th>\n",
       "    </tr>\n",
       "  </thead>\n",
       "  <tbody>\n",
       "    <tr>\n",
       "      <th>0</th>\n",
       "      <td>PS4 owners are stupid and ruin the gaming comm...</td>\n",
       "      <td>0.7556305</td>\n",
       "      <td>60973</td>\n",
       "      <td>Why are most ps4 owners so adamant about their...</td>\n",
       "      <td>poppymelt</td>\n",
       "      <td>xboxone</td>\n",
       "      <td>[0.20560789, -0.4412364, 0.32114562, -0.819991...</td>\n",
       "    </tr>\n",
       "    <tr>\n",
       "      <th>1</th>\n",
       "      <td>Well all I can say is that I used to be xbox f...</td>\n",
       "      <td>0.7221293</td>\n",
       "      <td>84910</td>\n",
       "      <td>On the IGN post-show, they mentioned a good po...</td>\n",
       "      <td>koncept61</td>\n",
       "      <td>gaming</td>\n",
       "      <td>[-0.17582169, -0.47674617, 0.123696476, -0.365...</td>\n",
       "    </tr>\n",
       "    <tr>\n",
       "      <th>2</th>\n",
       "      <td>out of curiosity is there anything you prefer ...</td>\n",
       "      <td>0.69925743</td>\n",
       "      <td>67893</td>\n",
       "      <td>It's not blind it's preference</td>\n",
       "      <td>Cageshep</td>\n",
       "      <td>metalgearsolid</td>\n",
       "      <td>[-0.17672586, -0.40686485, 0.24583732, -0.5249...</td>\n",
       "    </tr>\n",
       "    <tr>\n",
       "      <th>3</th>\n",
       "      <td>Yes because games on the Xbox 360 look so grea...</td>\n",
       "      <td>0.6865504</td>\n",
       "      <td>74049</td>\n",
       "      <td>It hasn't aged at all. It was on the Xbox 360 ...</td>\n",
       "      <td>ScreamHawk</td>\n",
       "      <td>pics</td>\n",
       "      <td>[-0.031248106, -0.80437386, -0.010843297, -0.7...</td>\n",
       "    </tr>\n",
       "    <tr>\n",
       "      <th>4</th>\n",
       "      <td>Works fine on my PC, although I'd say the orig...</td>\n",
       "      <td>0.68609136</td>\n",
       "      <td>90807</td>\n",
       "      <td>I get a really unplayable choppy frame rate on...</td>\n",
       "      <td>LordManders</td>\n",
       "      <td>gaming</td>\n",
       "      <td>[-0.022004578, -0.56376666, 0.11417452, -0.567...</td>\n",
       "    </tr>\n",
       "  </tbody>\n",
       "</table>\n",
       "</div>"
      ],
      "text/plain": [
       "                                             Comment  Similarity  Unnamed: 0  \\\n",
       "0  PS4 owners are stupid and ruin the gaming comm...   0.7556305       60973   \n",
       "1  Well all I can say is that I used to be xbox f...   0.7221293       84910   \n",
       "2  out of curiosity is there anything you prefer ...  0.69925743       67893   \n",
       "3  Yes because games on the Xbox 360 look so grea...   0.6865504       74049   \n",
       "4  Works fine on my PC, although I'd say the orig...  0.68609136       90807   \n",
       "\n",
       "                                      parent_comment       author  \\\n",
       "0  Why are most ps4 owners so adamant about their...    poppymelt   \n",
       "1  On the IGN post-show, they mentioned a good po...    koncept61   \n",
       "2                     It's not blind it's preference     Cageshep   \n",
       "3  It hasn't aged at all. It was on the Xbox 360 ...   ScreamHawk   \n",
       "4  I get a really unplayable choppy frame rate on...  LordManders   \n",
       "\n",
       "        subreddit                                             vector  \n",
       "0         xboxone  [0.20560789, -0.4412364, 0.32114562, -0.819991...  \n",
       "1          gaming  [-0.17582169, -0.47674617, 0.123696476, -0.365...  \n",
       "2  metalgearsolid  [-0.17672586, -0.40686485, 0.24583732, -0.5249...  \n",
       "3            pics  [-0.031248106, -0.80437386, -0.010843297, -0.7...  \n",
       "4          gaming  [-0.022004578, -0.56376666, 0.11417452, -0.567...  "
      ]
     },
     "execution_count": 7,
     "metadata": {},
     "output_type": "execute_result"
    }
   ],
   "source": [
    "n = 10 # Select how many recommendations you want\n",
    "N = 5 * n\n",
    "C_prime = get_similar_posts('Xbox is much better than PS4', N)\n",
    "C_prime = C_prime.join(df_m.set_index('comment'), on='Comment')\n",
    "C_prime.head()"
   ]
  },
  {
   "cell_type": "markdown",
   "id": "76744bc5",
   "metadata": {},
   "source": [
    "### Step 2: For each N+1 position item calculate the ILS (diversity) if this item was part of the top-N list.\n",
    "\n",
    "For every list entry z ∈ [2, N], we collect the items from candidate set Bi that do not occur in positions o < z in Pwi∗ and compute their similarity with set {Pwi∗(k) | k ∈ 1, z }, which contains all new recommendations preceding rank z"
   ]
  },
  {
   "cell_type": "code",
   "execution_count": 8,
   "id": "e7ee65da",
   "metadata": {},
   "outputs": [],
   "source": [
    "# Prepare df for pariwise distance\n",
    "df_ils = C_prime.copy()\n",
    "df_ils = df_ils.set_index(['Comment'])"
   ]
  },
  {
   "cell_type": "code",
   "execution_count": 9,
   "id": "023926ec",
   "metadata": {},
   "outputs": [],
   "source": [
    "ils = {}\n",
    "# set ILS for first item\n",
    "ils[df_ils.head(1)['Similarity'].index.values.item(0)] = df_ils.head(1)['Similarity'].values[0].item(0)\n",
    "for i in range(2, 51):\n",
    "    top_n = df_ils.head(i - 1)\n",
    "    top_n = top_n[['Similarity']]\n",
    "    bottom = df_ils.tail(len(df_ils) - i + 1)\n",
    "    bottom = bottom[['Similarity']]\n",
    "    for item in bottom.index:\n",
    "        rowData = bottom.loc[[item] , :]\n",
    "        top_n = top_n.append(rowData)\n",
    "        ils[item] = sum( [x for x in pdist(top_n)] ) / len(top_n) # ILS Calculation\n",
    "        top_n= top_n.drop(index=item)"
   ]
  },
  {
   "cell_type": "code",
   "execution_count": 10,
   "id": "c0646c2a",
   "metadata": {},
   "outputs": [
    {
     "data": {
      "text/plain": [
       "50"
      ]
     },
     "execution_count": 10,
     "metadata": {},
     "output_type": "execute_result"
    }
   ],
   "source": [
    "len(ils)"
   ]
  },
  {
   "cell_type": "markdown",
   "id": "a54035da",
   "metadata": {},
   "source": [
    "### Step 3: Sort the remaining items in reverse (according to ILS rank) to get their dissimilarity rank."
   ]
  },
  {
   "cell_type": "code",
   "execution_count": 11,
   "id": "9e8b4389",
   "metadata": {},
   "outputs": [],
   "source": [
    "dissimilarity_rank = {k: v for k, v in sorted(ils.items(), key=lambda item: item[1], reverse=True)}"
   ]
  },
  {
   "cell_type": "markdown",
   "id": "4d9f6b1b",
   "metadata": {},
   "source": [
    "### Step 4: Calculate new rank for each item as r = a ∗ P + b ∗ Pd, with P being the original rank, Pd being the dissimilarity rank and a, b being constants in range [0, 1]"
   ]
  },
  {
   "cell_type": "code",
   "execution_count": 12,
   "id": "18f0ab42",
   "metadata": {},
   "outputs": [],
   "source": [
    "from collections import OrderedDict\n",
    "# a,b ∈ [0,1]\n",
    "a = 0.5\n",
    "b = 0.5\n",
    "new_rank = {}\n",
    "ordered_dissimilarity_rank = OrderedDict(dissimilarity_rank)\n",
    "for item in df_ils.index:\n",
    "    P = C_prime['Similarity'][C_prime['Comment'] == item].values[0]\n",
    "    Pd = ordered_dissimilarity_rank[item]\n",
    "#     P = C_prime.index[C_prime['Comment'] == item]\n",
    "#     Pd = list(ordered_dissimilarity_rank.keys()).index(item)\n",
    "    new_rank[item] = (a * P) + (b * Pd)"
   ]
  },
  {
   "cell_type": "code",
   "execution_count": 15,
   "id": "cef57770",
   "metadata": {},
   "outputs": [
    {
     "data": {
      "text/plain": [
       "OrderedDict([('Yeah Obviously you have some inside knowledge and not just guessing, yeah fuck you Xbox',\n",
       "              1.1531847298145295),\n",
       "             ('So what game do you keep pre-loaded in the ps1?',\n",
       "              1.1328668448389794),\n",
       "             ('Yeah, on about 2-3 years well see the Ps4 Pro slim and the new Ps5.',\n",
       "              1.1119956001639366),\n",
       "             (\"I'm sorry love, but you are on Xbox and I am on PS3, it just wasn't meant to be.\",\n",
       "              1.0904722822473405),\n",
       "             ('Lag isnt exactly about power you know... And the Xbox One isn\\'t exactly what I would call \"powerful\", but yeah, not underpowered to the point we see in that video tho.',\n",
       "              1.0682330183360889),\n",
       "             (\"Ah, ok, I don't have a PS4 yet but hopefully will soon.\",\n",
       "              1.0458334313498603),\n",
       "             ('I am sure that kind of a place is much more shady than where Xboxes get made.',\n",
       "              1.0224904783747413),\n",
       "             (\"I honestly didn't check to see the costs of higher ones, but typically this Xbox branded one is more expensive, and people here recommend against Seagate because they have a higher failure rate.\",\n",
       "              0.9982649060182793),\n",
       "             (\"I used HD598s and I have a GAME ONE now...HD598s were more comfortable, but they're both great.\",\n",
       "              0.973856623683657),\n",
       "             (\"now you're just being silly, everybody knows only Xboxes overheat and RROD...\",\n",
       "              0.9491394380243813),\n",
       "             (\"It's not lesser hardware, it's a console and consoles are clearly made for gaming so therefore it's 10x better\",\n",
       "              0.9241886526346207),\n",
       "             (\"Actually super conductors don't give off any heat, and that's why the Xbox One is better than PC\",\n",
       "              0.8995589843163123),\n",
       "             (\"A lot of the regions which have PS4 availability but not Xbox One availability don't have Netflix, so that hurts your assumption a bit.\",\n",
       "              0.8741531732835268),\n",
       "             (\"I doubt it, considering there's no date for the PS4 release yet and I'm willing to bet that the 360 port made Square Enix much less than the Xbox One version (and then the PC port sold more than those combined)\",\n",
       "              0.849819760064821),\n",
       "             ('Its fine, its not like the PS3 has any games',\n",
       "              0.8256427198648453),\n",
       "             ('It only has about 9x the raw performance of a PS4, come one, that is really not special',\n",
       "              0.800370625087193),\n",
       "             ('xb1 and ps4 have about 2-3 nice exclusives that make the console unique, while the wii has their whole library - didnt even mention zelda, pokemon and all the other nintendo games that are all exclusive',\n",
       "              0.7753556616166059),\n",
       "             ('PS4 owners are stupid and ruin the gaming community, they just know Xbox is 10 times better.',\n",
       "              0.7556304931640625),\n",
       "             (\"You're right, the same game just does magically lots better on other platforms for some reason.\",\n",
       "              0.7495489192731453),\n",
       "             ('Yes you are right Ouya games = Xbox One games',\n",
       "              0.7240637540817261),\n",
       "             ('You can buy one and a half Xbox games at least.',\n",
       "              0.698182713600897),\n",
       "             ('Well, the PS4 is 1080p with 60 fps on some games just like PC checkmate master rathiests',\n",
       "              0.6711607734362285),\n",
       "             (\"You're right, this is much better than console gaming with friends\",\n",
       "              0.6425284270582527),\n",
       "             (\"It's okay, the emulator on PC supports running PS2 games off the original disk and at hd resolutions.\",\n",
       "              0.6130188469375882),\n",
       "             (\"I'd be happy with the Stick of Truth on Xbox One - a sequel would be even better though\",\n",
       "              0.5833614446498729),\n",
       "             (\"i ended up getting both systems, but if i had to choose only one of them, i'd have no regrets about choosing the ps4.\",\n",
       "              0.5514339071053725),\n",
       "             (\"I'm pretty sure that the NES Classic will be able to maintain 60FPS @1080P, so therefore it's better than the XBONE, and the PS4!\",\n",
       "              0.5171449518203736),\n",
       "             (\"What's an NES I bet it sucks compared to my xbox one\",\n",
       "              0.4808747097849846),\n",
       "             (\"After watching their PSX and E3 presentations, I think they'll continue to outsell Xbox for this generation.\",\n",
       "              0.448370477427607),\n",
       "             ('So OP, you getting the game on ps4 or xbone?',\n",
       "              0.41970646381378174),\n",
       "             ('Yeah thats totally it, Playstation and Xbox have never tried anything new',\n",
       "              0.3884554136367071),\n",
       "             (\"So that's not your TV being incompatable with the settngs you put on the xbox it's the xbox.. seems legit..\",\n",
       "              0.3542086839675903),\n",
       "             (\"Quite unlike the PS3, Wii, and XBox 360 games that don't have bugs, issues, or pirating.\",\n",
       "              0.33429056719729777),\n",
       "             ('Let me bust out this gold Xbox 1 i got for 10k so we can play games at 4k at your mansion.',\n",
       "              0.3149741258886125),\n",
       "             ('God PC gaming is so expensive, xbox live is way cheaper',\n",
       "              0.29366114560295553),\n",
       "             ('I am selling my 1.5k gaming PC for a Xbox One, i mean LOOK AT ALL THESE OPTIONS',\n",
       "              0.2706705965101719),\n",
       "             (\"They'd still look like ass since the game would be cross-platform with the WiiU and PS3 to boost sales\",\n",
       "              0.24720043341318768),\n",
       "             ('Pretty much the only game I want a PS4 for... why cant it just be on PC?',\n",
       "              0.22094084535326278),\n",
       "             ('He knows better though and the PS4 is only using 26% of its raw power in these games.',\n",
       "              0.19077676076155442),\n",
       "             ('perfect lol that was a good hidden response against if PC doest exist vs ps4 and xbox one lol.',\n",
       "              0.1663475582997004),\n",
       "             (\"I don't know, that whole backwards compatability thing on the xbox one is soooooooo revolutionary and new that I might just have to trade in my 360 for an xbox one and use all my old games.\",\n",
       "              0.14984325929121536),\n",
       "             ('Because people see stuff that PlayStation is getting and want the same stuff for Xbox i guess.',\n",
       "              0.13424888849258423),\n",
       "             (\"Recore looms super interesting but I don't got an xbox one and I ain't doing that for just one game like I did with PS4 and bloodborne.\",\n",
       "              0.11902154816521539),\n",
       "             (\"No no no, the ps3 runs at 999k @ 1 mil fps, it's soon much better then pc\",\n",
       "              0.10442207008600235),\n",
       "             ('Haha, I have a PS4 as well but quite a few of my friends play Siege on the Xbox so decided to pick it up on that.',\n",
       "              0.09284147194453649),\n",
       "             (\"I couldn't find a solution, had to return it so I bought an Xbox one instead and now everything is way better.\",\n",
       "              0.07975908120473225),\n",
       "             ('Works fine on my PC, although I\\'d say the original Xbox 360 version is the \"best\"',\n",
       "              0.06986286640167236),\n",
       "             ('Yes because games on the Xbox 360 look so great now.',\n",
       "              0.0575280487537384),\n",
       "             ('out of curiosity is there anything you prefer about the PS4 compared to the PC?',\n",
       "              0.03758203983306885),\n",
       "             (\"Well all I can say is that I used to be xbox first, and then I'd pick up the playstation to play a few games like MGS... Looks like I'm just going to have a PS4 now.\",\n",
       "              0.016750603914260864)])"
      ]
     },
     "execution_count": 15,
     "metadata": {},
     "output_type": "execute_result"
    }
   ],
   "source": [
    "ordered_dissimilarity_rank"
   ]
  },
  {
   "cell_type": "markdown",
   "id": "ea2c54d6",
   "metadata": {},
   "source": [
    "### Step 5: Select the top-N items according to the newly calculated rank"
   ]
  },
  {
   "cell_type": "code",
   "execution_count": 13,
   "id": "c1643987",
   "metadata": {},
   "outputs": [],
   "source": [
    "final_ranks = {k: v for k, v in sorted(new_rank.items(), key=lambda item: item[1], reverse=True)}"
   ]
  },
  {
   "cell_type": "code",
   "execution_count": null,
   "id": "70b1aa93",
   "metadata": {},
   "outputs": [],
   "source": [
    "\n",
    "    "
   ]
  },
  {
   "cell_type": "code",
   "execution_count": 16,
   "id": "6055af28",
   "metadata": {},
   "outputs": [
    {
     "data": {
      "text/html": [
       "<div>\n",
       "<style scoped>\n",
       "    .dataframe tbody tr th:only-of-type {\n",
       "        vertical-align: middle;\n",
       "    }\n",
       "\n",
       "    .dataframe tbody tr th {\n",
       "        vertical-align: top;\n",
       "    }\n",
       "\n",
       "    .dataframe thead th {\n",
       "        text-align: right;\n",
       "    }\n",
       "</style>\n",
       "<table border=\"1\" class=\"dataframe\">\n",
       "  <thead>\n",
       "    <tr style=\"text-align: right;\">\n",
       "      <th></th>\n",
       "      <th>Rank</th>\n",
       "      <th>Similarity</th>\n",
       "    </tr>\n",
       "    <tr>\n",
       "      <th>Comment</th>\n",
       "      <th></th>\n",
       "      <th></th>\n",
       "    </tr>\n",
       "  </thead>\n",
       "  <tbody>\n",
       "    <tr>\n",
       "      <th>Yeah Obviously you have some inside knowledge and not just guessing, yeah fuck you Xbox</th>\n",
       "      <td>0.865436</td>\n",
       "      <td>0.57768637</td>\n",
       "    </tr>\n",
       "    <tr>\n",
       "      <th>So what game do you keep pre-loaded in the ps1?</th>\n",
       "      <td>0.855420</td>\n",
       "      <td>0.5779736</td>\n",
       "    </tr>\n",
       "    <tr>\n",
       "      <th>Yeah, on about 2-3 years well see the Ps4 Pro slim and the new Ps5.</th>\n",
       "      <td>0.845100</td>\n",
       "      <td>0.57820475</td>\n",
       "    </tr>\n",
       "    <tr>\n",
       "      <th>I'm sorry love, but you are on Xbox and I am on PS3, it just wasn't meant to be.</th>\n",
       "      <td>0.834446</td>\n",
       "      <td>0.5784199</td>\n",
       "    </tr>\n",
       "    <tr>\n",
       "      <th>Lag isnt exactly about power you know... And the Xbox One isn't exactly what I would call \"powerful\", but yeah, not underpowered to the point we see in that video tho.</th>\n",
       "      <td>0.823732</td>\n",
       "      <td>0.57923</td>\n",
       "    </tr>\n",
       "    <tr>\n",
       "      <th>Ah, ok, I don't have a PS4 yet but hopefully will soon.</th>\n",
       "      <td>0.812568</td>\n",
       "      <td>0.57930315</td>\n",
       "    </tr>\n",
       "    <tr>\n",
       "      <th>I am sure that kind of a place is much more shady than where Xboxes get made.</th>\n",
       "      <td>0.800996</td>\n",
       "      <td>0.5795016</td>\n",
       "    </tr>\n",
       "    <tr>\n",
       "      <th>I honestly didn't check to see the costs of higher ones, but typically this Xbox branded one is more expensive, and people here recommend against Seagate because they have a higher failure rate.</th>\n",
       "      <td>0.789357</td>\n",
       "      <td>0.58044994</td>\n",
       "    </tr>\n",
       "    <tr>\n",
       "      <th>I used HD598s and I have a GAME ONE now...HD598s were more comfortable, but they're both great.</th>\n",
       "      <td>0.777584</td>\n",
       "      <td>0.5813107</td>\n",
       "    </tr>\n",
       "    <tr>\n",
       "      <th>now you're just being silly, everybody knows only Xboxes overheat and RROD...</th>\n",
       "      <td>0.765714</td>\n",
       "      <td>0.5822885</td>\n",
       "    </tr>\n",
       "  </tbody>\n",
       "</table>\n",
       "</div>"
      ],
      "text/plain": [
       "                                                        Rank  Similarity\n",
       "Comment                                                                 \n",
       "Yeah Obviously you have some inside knowledge a...  0.865436  0.57768637\n",
       "So what game do you keep pre-loaded in the ps1?     0.855420   0.5779736\n",
       "Yeah, on about 2-3 years well see the Ps4 Pro s...  0.845100  0.57820475\n",
       "I'm sorry love, but you are on Xbox and I am on...  0.834446   0.5784199\n",
       "Lag isnt exactly about power you know... And th...  0.823732     0.57923\n",
       "Ah, ok, I don't have a PS4 yet but hopefully wi...  0.812568  0.57930315\n",
       "I am sure that kind of a place is much more sha...  0.800996   0.5795016\n",
       "I honestly didn't check to see the costs of hig...  0.789357  0.58044994\n",
       "I used HD598s and I have a GAME ONE now...HD598...  0.777584   0.5813107\n",
       "now you're just being silly, everybody knows on...  0.765714   0.5822885"
      ]
     },
     "execution_count": 16,
     "metadata": {},
     "output_type": "execute_result"
    }
   ],
   "source": [
    "data = []\n",
    "for comment, score in final_ranks.items():\n",
    "    data.append({'Comment': comment,'Rank': score})\n",
    "\n",
    "df_sim = pd.DataFrame(data)\n",
    "df_sim = df_sim.set_index(['Comment'])\n",
    "similarities = []\n",
    "for item in df_sim.index:\n",
    "    similarities.append(ordered_dissimilarity_rank[item])\n",
    "\n",
    "df_sim['Similarity'] = similarities\n",
    "df_sim = df_sim.head(10)\n",
    "df_sim.sort_values(by=['Rank'], ascending=False)"
   ]
  },
  {
   "cell_type": "code",
   "execution_count": 17,
   "id": "f5af028d",
   "metadata": {},
   "outputs": [
    {
     "data": {
      "text/plain": [
       "0.001762733194563124"
      ]
     },
     "execution_count": 17,
     "metadata": {},
     "output_type": "execute_result"
    }
   ],
   "source": [
    "# Find the Diversity\n",
    "n = 10\n",
    "df_copy = df_sim.copy()\n",
    "df_copy = df_copy.drop(columns=['Rank'])\n",
    "dis_similarity = [x for x in pdist(df_copy)]\n",
    "avg_dissim_greedy = (sum(dis_similarity))/((n/2)*(n-1))\n",
    "avg_dissim_greedy"
   ]
  },
  {
   "cell_type": "code",
   "execution_count": 18,
   "id": "54275625",
   "metadata": {},
   "outputs": [],
   "source": [
    "# Define Method for getting top-n similar comments/titles\n",
    "def get_similar_posts(query, n):\n",
    "    \"\"\"\n",
    "    query (string): the text of the post\n",
    "    n (int): number of posts to recommend\n",
    "    \"\"\"\n",
    "    # Find the closest 5 sentences of the corpus for each query sentence based on cosine similarity\n",
    "    top_k = min(n, len(corpus))\n",
    "    query_embedding = embedder.encode(query, convert_to_tensor=True)\n",
    "    similarities = []\n",
    "    pairs = []\n",
    "\n",
    "    # We use cosine-similarity and torch.topk to find the highest 5 scores\n",
    "    cos_scores = util.pytorch_cos_sim(query_embedding, sarcasm_embeddings)[0]\n",
    "    top_results = torch.topk(cos_scores, k=top_k)\n",
    "\n",
    "    print(\"Query:\", query)\n",
    "    print(\"\\nTop {n} most similar sentences in corpus:\".format(n=n))\n",
    "\n",
    "    for score, idx in zip(top_results[0], top_results[1]):\n",
    "#         print(corpus[idx], \"(Score: {:.4f})\".format(score))\n",
    "        pairs.append(tuple((corpus[idx], score)))\n",
    "    \n",
    "    recommend_frame = []\n",
    "    for val in pairs:\n",
    "        recommend_frame.append({'Comment':val[0],'Similarity':val[1].cpu().numpy()})\n",
    "     \n",
    "    df = pd.DataFrame(recommend_frame)\n",
    "    df = df.set_index(['Comment'])\n",
    "    return df"
   ]
  },
  {
   "cell_type": "code",
   "execution_count": 19,
   "id": "62d409f8",
   "metadata": {},
   "outputs": [
    {
     "name": "stdout",
     "output_type": "stream",
     "text": [
      "Query: Xbox is much better than PS4\n",
      "\n",
      "Top 10 most similar sentences in corpus:\n"
     ]
    },
    {
     "data": {
      "text/html": [
       "<div>\n",
       "<style scoped>\n",
       "    .dataframe tbody tr th:only-of-type {\n",
       "        vertical-align: middle;\n",
       "    }\n",
       "\n",
       "    .dataframe tbody tr th {\n",
       "        vertical-align: top;\n",
       "    }\n",
       "\n",
       "    .dataframe thead th {\n",
       "        text-align: right;\n",
       "    }\n",
       "</style>\n",
       "<table border=\"1\" class=\"dataframe\">\n",
       "  <thead>\n",
       "    <tr style=\"text-align: right;\">\n",
       "      <th></th>\n",
       "      <th>Similarity</th>\n",
       "    </tr>\n",
       "    <tr>\n",
       "      <th>Comment</th>\n",
       "      <th></th>\n",
       "    </tr>\n",
       "  </thead>\n",
       "  <tbody>\n",
       "    <tr>\n",
       "      <th>PS4 owners are stupid and ruin the gaming community, they just know Xbox is 10 times better.</th>\n",
       "      <td>0.7556305</td>\n",
       "    </tr>\n",
       "    <tr>\n",
       "      <th>Well all I can say is that I used to be xbox first, and then I'd pick up the playstation to play a few games like MGS... Looks like I'm just going to have a PS4 now.</th>\n",
       "      <td>0.7221293</td>\n",
       "    </tr>\n",
       "    <tr>\n",
       "      <th>out of curiosity is there anything you prefer about the PS4 compared to the PC?</th>\n",
       "      <td>0.69925743</td>\n",
       "    </tr>\n",
       "    <tr>\n",
       "      <th>Yes because games on the Xbox 360 look so great now.</th>\n",
       "      <td>0.6865504</td>\n",
       "    </tr>\n",
       "    <tr>\n",
       "      <th>Works fine on my PC, although I'd say the original Xbox 360 version is the \"best\"</th>\n",
       "      <td>0.68609136</td>\n",
       "    </tr>\n",
       "  </tbody>\n",
       "</table>\n",
       "</div>"
      ],
      "text/plain": [
       "                                                    Similarity\n",
       "Comment                                                       \n",
       "PS4 owners are stupid and ruin the gaming commu...   0.7556305\n",
       "Well all I can say is that I used to be xbox fi...   0.7221293\n",
       "out of curiosity is there anything you prefer a...  0.69925743\n",
       "Yes because games on the Xbox 360 look so great...   0.6865504\n",
       "Works fine on my PC, although I'd say the origi...  0.68609136"
      ]
     },
     "execution_count": 19,
     "metadata": {},
     "output_type": "execute_result"
    }
   ],
   "source": [
    "df_control = get_similar_posts('Xbox is much better than PS4', 10)\n",
    "df_control.head()"
   ]
  },
  {
   "cell_type": "code",
   "execution_count": 20,
   "id": "293f16ee",
   "metadata": {},
   "outputs": [
    {
     "data": {
      "text/plain": [
       "0.029833086331685386"
      ]
     },
     "execution_count": 20,
     "metadata": {},
     "output_type": "execute_result"
    }
   ],
   "source": [
    "n = 10\n",
    "dis_similarity = [x for x in pdist(df_control)]\n",
    "\n",
    "avg_dissim_control = (sum(dis_similarity))/((n/2)*(n-1))\n",
    "avg_dissim_control"
   ]
  },
  {
   "cell_type": "code",
   "execution_count": 21,
   "id": "63350b84",
   "metadata": {},
   "outputs": [
    {
     "data": {
      "text/plain": [
       "-94.09"
      ]
     },
     "execution_count": 21,
     "metadata": {},
     "output_type": "execute_result"
    }
   ],
   "source": [
    "percent_change = ((avg_dissim_greedy - avg_dissim_control)/avg_dissim_control)*100\n",
    "round(percent_change, 2)"
   ]
  },
  {
   "cell_type": "code",
   "execution_count": null,
   "id": "731b7771",
   "metadata": {},
   "outputs": [],
   "source": [
    "### END OF NOTEBOOK ###"
   ]
  }
 ],
 "metadata": {
  "kernelspec": {
   "display_name": "Python 3",
   "language": "python",
   "name": "python3"
  },
  "language_info": {
   "codemirror_mode": {
    "name": "ipython",
    "version": 3
   },
   "file_extension": ".py",
   "mimetype": "text/x-python",
   "name": "python",
   "nbconvert_exporter": "python",
   "pygments_lexer": "ipython3",
   "version": "3.6.9"
  }
 },
 "nbformat": 4,
 "nbformat_minor": 5
}
